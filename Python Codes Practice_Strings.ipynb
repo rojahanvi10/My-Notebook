{
 "cells": [
  {
   "cell_type": "code",
   "execution_count": 4,
   "id": "53efddd6",
   "metadata": {},
   "outputs": [
    {
     "name": "stdout",
     "output_type": "stream",
     "text": [
      "            tweets      tokenized_tweets                               bigrams\n",
      "0      i like roja       [i, like, roja]             [(i, like), (like, roja)]\n",
      "1      i love roja       [i, love, roja]             [(i, love), (love, roja)]\n",
      "2  i am from india  [i, am, from, india]  [(i, am), (am, from), (from, india)]\n"
     ]
    }
   ],
   "source": [
    "import pandas as pd\n",
    "import nltk\n",
    "from nltk import bigrams\n",
    "\n",
    "# Sample data (replace this with your DataFrame)\n",
    "data = {'tweets': [\"i like roja\", \"i love roja\", \"i am from india\"]}\n",
    "df = pd.DataFrame(data)\n",
    "\n",
    "# Tokenize the tweets and generate bigrams\n",
    "df['tokenized_tweets'] = df['tweets'].apply(lambda tweet: nltk.word_tokenize(tweet.lower()))\n",
    "df['bigrams'] = df['tokenized_tweets'].apply(lambda tokens: list(bigrams(tokens)))\n",
    "\n",
    "print(df)"
   ]
  },
  {
   "cell_type": "code",
   "execution_count": 4,
   "id": "e497a715",
   "metadata": {},
   "outputs": [
    {
     "name": "stdout",
     "output_type": "stream",
     "text": [
      "[]\n"
     ]
    }
   ],
   "source": [
    "a=dict(zip(('a','b','c','d','e'),(1,2,3,4,5)))\n",
    "b=range(3)\n",
    "c=sorted(i for i in b if 1 in a)\n",
    "print(c)"
   ]
  },
  {
   "cell_type": "code",
   "execution_count": null,
   "id": "d3f426f2",
   "metadata": {},
   "outputs": [],
   "source": [
    "#Create a string made of the first, middle and last character\n",
    "str='Jamesr'\n",
    "i=int(len(str)/2)\n",
    "j=len(str)\n",
    "res=str[0]+str[i]+str[j-1]\n",
    "print(res)"
   ]
  },
  {
   "cell_type": "code",
   "execution_count": null,
   "id": "4db3a345",
   "metadata": {},
   "outputs": [],
   "source": [
    "# Create a string made of the middle three characters\n",
    "#str1 = \"JhonDipPeta\"\n",
    "# output='Dip'\n",
    "\n",
    "str='JhonDipPetaght'\n",
    "i=int(len(str))\n",
    "j=int(i/2)\n",
    "res=str[j-1]+str[j]+str[j+1]\n",
    "print(res)"
   ]
  },
  {
   "cell_type": "code",
   "execution_count": null,
   "id": "a1dae0af",
   "metadata": {},
   "outputs": [],
   "source": [
    "#Append new string in the middle of a given string\n",
    "# s1 = \"Ault\",s2 = \"Kelly\"\n",
    "# output=\"AuKellylt\"\n",
    "def append(str1,str2):\n",
    "    i=int(len(str1)/2)\n",
    "    #print(i)\n",
    "    ans=str1[:i:]\n",
    "    #print(ans)\n",
    "    ans=ans+str2\n",
    "    #print(ans1)\n",
    "    ans=ans+str1[i:]\n",
    "    print(ans)\n",
    "append(\"Ault\",\"Kelly\")"
   ]
  },
  {
   "cell_type": "code",
   "execution_count": null,
   "id": "5d8c1082",
   "metadata": {},
   "outputs": [],
   "source": [
    "\"\"\"\n",
    "Create a new string made of the first, middle, \n",
    "and last characters of each input string\n",
    "Given:\n",
    "    \n",
    "\n",
    "s1 = \"America\"\n",
    "s2 = \"Japan\"\n",
    "Expected Output:\n",
    "\n",
    "AJrpan\n",
    "\"\"\"\n",
    "str1='America'\n",
    "str2='Japan'\n",
    "i=int(len(str1)/2)\n",
    "j=int(len(str2)/2)\n",
    "res=str1[0]+str2[0]+str1[i]+str2[j]+str1[len(str1)-1]+str2[len(str2)-1]\n",
    "print(res)"
   ]
  },
  {
   "cell_type": "code",
   "execution_count": null,
   "id": "8f7c2130",
   "metadata": {},
   "outputs": [],
   "source": [
    "\n",
    "\"\"\"\n",
    "Arrange string characters such that lowercase letters should come first\n",
    "str1 = PyNaTive\n",
    "Output=yaivePNT\n",
    "\"\"\"\n",
    "\n",
    "str1 = \"PYnAtivE\"\n",
    "print('Original String:', str1)\n",
    "lower = []\n",
    "upper = []\n",
    "for char in str1:\n",
    "    if char.islower():\n",
    "        lower.append(char)\n",
    "    else:\n",
    "        upper.append(char)\n",
    "result=''.join(lower+upper)\n",
    "print(result)"
   ]
  },
  {
   "cell_type": "code",
   "execution_count": null,
   "id": "73161651",
   "metadata": {},
   "outputs": [],
   "source": [
    "\"\"\"\n",
    "Count all letters, digits, and special symbols from a given string\n",
    "Given:\n",
    "\n",
    "str1 = \"P@#yn26at^&i5ve\"\n",
    "Expected Outcome:\n",
    "\n",
    "Total counts of chars, digits, and symbols \n",
    "\n",
    "Chars = 8 \n",
    "Digits = 3 \n",
    "Symbol = 4\n",
    "\"\"\"\n",
    "\n",
    "str1 = \"P@#yn26at^&i5ve\"\n",
    "chars=0\n",
    "symbol=0\n",
    "digit=0\n",
    "for char in str1:\n",
    "    if char.isalpha():\n",
    "        chars=chars+1\n",
    "    elif char.isdigit():\n",
    "        digit=digit+1\n",
    "    else:\n",
    "        symbol=symbol+1\n",
    "print(\"Chars:\",chars)\n",
    "print(\"Symbol:\",symbol)\n",
    "print(\"Digits:\",digit)"
   ]
  },
  {
   "cell_type": "code",
   "execution_count": null,
   "id": "9f499255",
   "metadata": {},
   "outputs": [],
   "source": [
    "\"\"\"\n",
    "Create a mixed String using the following rules\n",
    "Given two strings, s1 and s2. Write a program to create a new string s3 made of the first char of s1, then the last char of s2, Next, the second char of s1 and second last char of s2, and so on. Any leftover chars go at the end of the result.\n",
    "\n",
    "Given:\n",
    "\n",
    "s1 = \"Abc\"\n",
    "s2 = \"Xyz\"\n",
    "Expected Output:\n",
    "\n",
    "AzbycX\n",
    "\"\"\"\n",
    "\n",
    "def mix_string(s1,s2):\n",
    "    i=len(s1)\n",
    "    j=len(s2)\n",
    "    lenth=i if i>j else j\n",
    "    res=\"\"\n",
    "    s2=s2[::-1]\n",
    "    for k in range(lenth):\n",
    "        if k < i:\n",
    "            res=res+s1[k]\n",
    "        if k <j:\n",
    "            res=res+s2[k]\n",
    "    print(res)\n",
    "mix_string(\"abc\",\"xyz\")\n",
    "            "
   ]
  },
  {
   "cell_type": "code",
   "execution_count": 1,
   "id": "263c105c",
   "metadata": {},
   "outputs": [
    {
     "name": "stdout",
     "output_type": "stream",
     "text": [
      "2\n"
     ]
    }
   ],
   "source": [
    "\"\"\"\n",
    "Find all occurrences of a substring in a given string by ignoring the case\n",
    "str1 = \"Welcome to USA. usa awesome, isn't it?\"\n",
    "outut=Usa 2\n",
    "\"\"\"\n",
    "str1=\"Welcome to USA. usa awesome, isn't it?\"\n",
    "sub_str=\"usa\"\n",
    "temp=str1.lower()\n",
    "count=temp.count(sub_str.lower())\n",
    "print(count)\n"
   ]
  },
  {
   "cell_type": "code",
   "execution_count": 8,
   "id": "91750617",
   "metadata": {},
   "outputs": [
    {
     "name": "stdout",
     "output_type": "stream",
     "text": [
      "Sum: 38\n",
      "Average: 2.375\n"
     ]
    }
   ],
   "source": [
    "\"\"\"\n",
    "Calculate the sum and average of the digits present in a string\n",
    "str1 = \"PYnative29@#8496\"\n",
    "Expected Outcome:\n",
    "Sum is: 38 Average is  6.333333333333333\n",
    "\"\"\"\n",
    "\n",
    "str1= \"PYnative29@#8496\"\n",
    "cnt=0\n",
    "sum=0\n",
    "avg=0\n",
    "\n",
    "for char in str1:\n",
    "    if char.isdigit():\n",
    "        sum=sum+int(char)\n",
    "        cnt+=1\n",
    "avg=sum/length\n",
    "\n",
    "print(\"Sum:\",sum)\n",
    "print(\"Average:\",avg)\n",
    "\n"
   ]
  },
  {
   "cell_type": "code",
   "execution_count": 9,
   "id": "d9d2e179",
   "metadata": {},
   "outputs": [
    {
     "name": "stdout",
     "output_type": "stream",
     "text": [
      "{'A': 1, 'p': 2, 'l': 1, 'e': 1}\n"
     ]
    }
   ],
   "source": [
    "\"\"\"\n",
    "Write a program to count occurrences of all characters within a string\n",
    "str1 = \"Apple\"\n",
    "Expected Outcome:\n",
    "\n",
    "{'A': 1, 'p': 2, 'l': 1, 'e': 1}\n",
    "\"\"\"\n",
    "str1=\"Apple\"\n",
    "output={}\n",
    "count=0\n",
    "for char in str1:\n",
    "    count=str1.count(char)\n",
    "    output[char]=count\n",
    "print(output)\n",
    "    "
   ]
  },
  {
   "cell_type": "code",
   "execution_count": 10,
   "id": "951c0f5e",
   "metadata": {},
   "outputs": [
    {
     "name": "stdout",
     "output_type": "stream",
     "text": [
      "olleH\n"
     ]
    }
   ],
   "source": [
    "#Reverse a given string\n",
    "str1=\"Hello\"\n",
    "print(str1[::-1])"
   ]
  },
  {
   "cell_type": "code",
   "execution_count": 24,
   "id": "66aaffe2",
   "metadata": {},
   "outputs": [
    {
     "data": {
      "text/plain": [
       "['Emma', 'is', 'a', 'data', 'scientist']"
      ]
     },
     "execution_count": 24,
     "metadata": {},
     "output_type": "execute_result"
    }
   ],
   "source": [
    "# Split a string on hyphens\n",
    "str1 = \"Emma-is-a-data-scientist\"\n",
    "\n",
    "res=str1.split('-')\n",
    "res\n",
    "\n"
   ]
  },
  {
   "cell_type": "code",
   "execution_count": 25,
   "id": "14378b14",
   "metadata": {},
   "outputs": [
    {
     "data": {
      "text/plain": [
       "['Emma', 'Jon', 'Kelly', 'Eric']"
      ]
     },
     "execution_count": 25,
     "metadata": {},
     "output_type": "execute_result"
    }
   ],
   "source": [
    "\n",
    "#Remove empty strings from a list of strings\n",
    "str_list = [\"Emma\", \"Jon\", \"\", \"Kelly\", None, \"Eric\", \"\"]\n",
    "\n",
    "new_str=list(filter(None,str_list))\n",
    "\n",
    "new_str"
   ]
  },
  {
   "cell_type": "code",
   "execution_count": 4,
   "id": "57fef2cd",
   "metadata": {},
   "outputs": [
    {
     "name": "stdout",
     "output_type": "stream",
     "text": [
      "no\n"
     ]
    }
   ],
   "source": [
    "# Given srting is palinrome or not \n",
    "def palindrome(s):\n",
    "    return s[::-1]\n",
    "s='given'\n",
    "ans=palindrome(s)\n",
    "\n",
    "if s==ans:\n",
    "    print('yes')\n",
    "else:\n",
    "    print('no')\n",
    "\n"
   ]
  },
  {
   "cell_type": "code",
   "execution_count": 17,
   "id": "13dbe498",
   "metadata": {},
   "outputs": [
    {
     "name": "stdout",
     "output_type": "stream",
     "text": [
      "Yes\n"
     ]
    }
   ],
   "source": [
    "#Check if a String is Palindrome or Not Using Iterative Method\n",
    "\n",
    "def palindrome(s):\n",
    "    for i in range(0,int(len(s)/2)):\n",
    "        if s[i]==s[len(s)-i-1]:\n",
    "            return True\n",
    "    return False\n",
    "                   \n",
    "s='malayalam'\n",
    "ans=palindrome(s)\n",
    "\n",
    "if s!=ans:\n",
    "    print('Yes')\n",
    "else:\n",
    "    print('No')                   "
   ]
  },
  {
   "cell_type": "code",
   "execution_count": 19,
   "id": "676f27ec",
   "metadata": {},
   "outputs": [
    {
     "name": "stdout",
     "output_type": "stream",
     "text": [
      "No\n"
     ]
    }
   ],
   "source": [
    "def palindrome(s):\n",
    "    r=''.join(reversed(s))\n",
    "    if r==s:\n",
    "        return True\n",
    "    return False\n",
    "\n",
    "#s='malayalam'\n",
    "s=\"given\"\n",
    "ans=palindrome(s)\n",
    "\n",
    "if ans:\n",
    "    print('Yes')\n",
    "else:\n",
    "    print('No') \n",
    "       \n",
    "        \n"
   ]
  },
  {
   "cell_type": "code",
   "execution_count": 3,
   "id": "0b846eb8",
   "metadata": {},
   "outputs": [
    {
     "name": "stdout",
     "output_type": "stream",
     "text": [
      "khokho is a symmnetrical\n",
      "khokho is not a palindrome\n"
     ]
    }
   ],
   "source": [
    "\"\"\"\n",
    "Python program to check whether the string is Symmetrical or Palindrome\n",
    "Input: khokho\n",
    "Output: \n",
    "The entered string is symmetrical\n",
    "The entered string is not palindrome\n",
    "\n",
    "Input:amaama\n",
    "Output:\n",
    "The entered string is symmetrical\n",
    "The entered string is palindrome\n",
    "\"\"\"\n",
    "str=\"khokho\"\n",
    "half=int(len(str)/2)\n",
    "first_str=str[half:]\n",
    "sec_str=str[:half]\n",
    "\n",
    "if first_str==sec_str:\n",
    "    print(str,'is a symmnetrical')\n",
    "else:\n",
    "    print(str,'is not a symmetrical')\n",
    "if first_str==sec_str[::-1]:\n",
    "    print(str,'is a palindrome')\n",
    "else:\n",
    "    print(str,'is not a palindrome')\n",
    "    \n",
    "        \n",
    "        \n",
    "        \n",
    "    \n"
   ]
  },
  {
   "cell_type": "code",
   "execution_count": 7,
   "id": "a8759331",
   "metadata": {},
   "outputs": [
    {
     "name": "stdout",
     "output_type": "stream",
     "text": [
      "code practice quiz geeks\n"
     ]
    }
   ],
   "source": [
    "#reverse a sentence\n",
    "\n",
    "string = \"geeks quiz practice code\"\n",
    "\n",
    "s=string.split(' ')\n",
    "\n",
    "l=[]\n",
    "\n",
    "for i in s[::-1]:\n",
    "    l.append(i)\n",
    "print(\" \".join(l))"
   ]
  },
  {
   "cell_type": "code",
   "execution_count": null,
   "id": "3e29cb85",
   "metadata": {},
   "outputs": [],
   "source": []
  }
 ],
 "metadata": {
  "kernelspec": {
   "display_name": "Python 3 (ipykernel)",
   "language": "python",
   "name": "python3"
  },
  "language_info": {
   "codemirror_mode": {
    "name": "ipython",
    "version": 3
   },
   "file_extension": ".py",
   "mimetype": "text/x-python",
   "name": "python",
   "nbconvert_exporter": "python",
   "pygments_lexer": "ipython3",
   "version": "3.9.13"
  }
 },
 "nbformat": 4,
 "nbformat_minor": 5
}
